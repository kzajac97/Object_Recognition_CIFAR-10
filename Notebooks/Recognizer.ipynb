{
 "cells": [
  {
   "cell_type": "code",
   "execution_count": 1,
   "metadata": {},
   "outputs": [],
   "source": [
    "import sys\n",
    "sys.path.insert(0,'..')\n",
    "\n",
    "import mxnet as mx\n",
    "from mxnet import nd\n",
    "from mxnet import autograd\n",
    "from mxnet import gluon\n",
    "from mxnet import init\n",
    "\n",
    "from mxnet.gluon import data as gluon_data\n",
    "from mxnet.gluon import loss as gluon_loss\n",
    "from mxnet.gluon import nn \n",
    "import mxnet.gluon.data.vision.datasets\n",
    "from mxnet.gluon.data.vision.datasets import CIFAR10\n",
    "\n",
    "import os\n",
    "import pandas as pd\n",
    "import numpy as np\n",
    "import shutil\n",
    "import time\n",
    "import pickle\n",
    "from tqdm import tqdm\n",
    "import matplotlib.pyplot as plt\n",
    "import seaborn as sns"
   ]
  },
  {
   "cell_type": "code",
   "execution_count": 2,
   "metadata": {},
   "outputs": [],
   "source": [
    "transform_train = gluon_data.vision.transforms.Compose([\n",
    "    # Magnify the image to a square of 40 pixels in both height and width\n",
    "    # gluon_data.vision.transforms.Resize(40),\n",
    "    # Randomly crop a square image of 40 pixels in both height and width to\n",
    "    # produce a small square of 0.64 to 1 times the area of the original\n",
    "    # image, and then shrink it to a square of 32 pixels in both height and\n",
    "    # width\n",
    "    # gluon_data.vision.transforms.RandomResizedCrop(32, scale=(0.64, 1.0), ratio=(1.0, 1.0)),\n",
    "    gluon_data.vision.transforms.RandomFlipLeftRight(),\n",
    "    gluon_data.vision.transforms.ToTensor(),\n",
    "    # Normalize each channel of the image\n",
    "    gluon_data.vision.transforms.Normalize([0.4914, 0.4822, 0.4465], [0.2023, 0.1994, 0.2010])])\n",
    "\n",
    "transform_test = gluon_data.vision.transforms.Compose([\n",
    "    gluon_data.vision.transforms.ToTensor(),\n",
    "    gluon_data.vision.transforms.Normalize([0.4914, 0.4822, 0.4465], [0.2023, 0.1994, 0.2010])])                                  \n",
    "\n",
    "def Load_CIFAR10():\n",
    "    data_train = gluon_data.vision.CIFAR10(train=True)\n",
    "    data_test = gluon_data.vision.CIFAR10(train=False)\n",
    "\n",
    "    return data_train, data_test\n",
    "\n",
    "def Get_Iters(train,test,batch_size,workers):\n",
    "    train_iter = gluon_data.DataLoader(train.transform_first(transform_train), batch_size, shuffle = True, num_workers = workers)\n",
    "    test_iter = gluon_data.DataLoader(test.transform_first(transform_test), 1, shuffle = True, num_workers = workers)\n",
    "\n",
    "    return train_iter, test_iter"
   ]
  },
  {
   "cell_type": "code",
   "execution_count": 3,
   "metadata": {},
   "outputs": [],
   "source": [
    "# Load CIFAR10 data|\n",
    "train_data, test_data = Load_CIFAR10()\n",
    "# Creates Data Iterators with batch_size 256 using 4 threads\n",
    "train_iter, test_iter = Get_Iters(train_data,test_data,64,4)"
   ]
  },
  {
   "cell_type": "code",
   "execution_count": 4,
   "metadata": {},
   "outputs": [],
   "source": [
    "class Recognizer(nn.HybridBlock):\n",
    "    def __init__(self,**kwargs):\n",
    "        super(Recognizer,self).__init__(**kwargs)\n",
    "        self.ctx = mx.cpu() \n",
    "\n",
    "        self.net = nn.HybridSequential()\n",
    "        with self.net.name_scope():\n",
    "            self.net.add(nn.Conv2D(3,kernel_size=3,padding=1,strides=1,activation='relu'))\n",
    "            self.net.add(nn.BatchNorm())\n",
    "            self.net.add(nn.Conv2D(3,kernel_size=3,padding=1,strides=1,activation='relu'))\n",
    "            self.net.add(nn.BatchNorm())\n",
    "            self.net.add(nn.MaxPool2D())\n",
    "            self.net.add(nn.Dropout(0.2))\n",
    "            self.net.add(nn.Conv2D(3,kernel_size=3,padding=1,strides=1,activation='relu'))\n",
    "            self.net.add(nn.BatchNorm())\n",
    "            self.net.add(nn.Conv2D(3,kernel_size=3,padding=1,strides=1,activation='relu'))\n",
    "            self.net.add(nn.BatchNorm())\n",
    "            self.net.add(nn.MaxPool2D())\n",
    "            self.net.add(nn.Conv2D(3,kernel_size=3,padding=1,strides=1,activation='relu'))\n",
    "            self.net.add(nn.BatchNorm())\n",
    "            self.net.add(nn.Conv2D(3,kernel_size=3,padding=1,strides=1,activation='relu'))\n",
    "            self.net.add(nn.BatchNorm())\n",
    "            self.net.add(nn.MaxPool2D())\n",
    "            self.net.add(nn.Flatten())\n",
    "            self.net.add(nn.Dense(10,activation='relu'))\n",
    "            \n",
    "            self.net.initialize(init.Xavier())\n",
    "\n",
    "        self.loss_values = [] # array for training visualisation\n",
    "\n",
    "    # Overwrite forward pass\n",
    "    def forward(self, x):\n",
    "        return self.net(x)"
   ]
  },
  {
   "cell_type": "code",
   "execution_count": 5,
   "metadata": {},
   "outputs": [],
   "source": [
    "total_loss = 0.0\n",
    "loss_function = gluon_loss.SoftmaxCrossEntropyLoss()\n",
    "net = Recognizer()\n",
    "trainer = gluon.Trainer(net.net.collect_params(),'sgd',{'learning_rate' : 0.1 } )\n",
    "num_epochs = 32"
   ]
  },
  {
   "cell_type": "code",
   "execution_count": 6,
   "metadata": {},
   "outputs": [
    {
     "name": "stderr",
     "output_type": "stream",
     "text": [
      "100%|██████████████████████████████████████████████████████████████████████████████████| 32/32 [34:58<00:00, 70.19s/it]\n"
     ]
    }
   ],
   "source": [
    "loss_values = []\n",
    "for epoch in tqdm(range(1,num_epochs+1)):\n",
    "    for data, label in train_iter:\n",
    "        with autograd.record():\n",
    "            output = net.net(data)\n",
    "            loss_val = loss_function(output,label).sum()\n",
    "            \n",
    "        total_loss += loss_val.asscalar()\n",
    "        loss_val.backward()\n",
    "        trainer.step(64)\n",
    "        \n",
    "    loss_values.append(total_loss)\n",
    "    total_loss = 0.0"
   ]
  },
  {
   "cell_type": "code",
   "execution_count": 53,
   "metadata": {},
   "outputs": [
    {
     "ename": "AssertionError",
     "evalue": "Parameter 'net.19.weight' is missing in file 'net1.params', which contains parameters: 'net.0.weight', 'net.0.bias', 'net.1.gamma', ..., 'net.14.running_mean', 'net.14.running_var', 'net.17.weight', 'net.17.bias'. Set allow_missing=True to ignore missing parameters.",
     "output_type": "error",
     "traceback": [
      "\u001b[1;31m---------------------------------------------------------------------------\u001b[0m",
      "\u001b[1;31mAssertionError\u001b[0m                            Traceback (most recent call last)",
      "\u001b[1;32m<ipython-input-53-3d679302765d>\u001b[0m in \u001b[0;36m<module>\u001b[1;34m\u001b[0m\n\u001b[1;32m----> 1\u001b[1;33m \u001b[0mnet\u001b[0m\u001b[1;33m.\u001b[0m\u001b[0mload_parameters\u001b[0m\u001b[1;33m(\u001b[0m\u001b[1;34m'net1.params'\u001b[0m\u001b[1;33m)\u001b[0m\u001b[1;33m\u001b[0m\u001b[0m\n\u001b[0m",
      "\u001b[1;32mc:\\users\\krzysiek\\appdata\\local\\programs\\python\\python36\\lib\\site-packages\\mxnet\\gluon\\block.py\u001b[0m in \u001b[0;36mload_parameters\u001b[1;34m(self, filename, ctx, allow_missing, ignore_extra)\u001b[0m\n\u001b[0;32m    392\u001b[0m                     \u001b[1;34m\"Parameter '%s' is missing in file '%s', which contains parameters: %s. \"\u001b[0m\u001b[0;31m \u001b[0m\u001b[0;31m\\\u001b[0m\u001b[1;33m\u001b[0m\u001b[0m\n\u001b[0;32m    393\u001b[0m                     \"Set allow_missing=True to ignore missing parameters.\"%(\n\u001b[1;32m--> 394\u001b[1;33m                         name, filename, _brief_print_list(loaded.keys()))\n\u001b[0m\u001b[0;32m    395\u001b[0m         \u001b[1;32mfor\u001b[0m \u001b[0mname\u001b[0m \u001b[1;32min\u001b[0m \u001b[0mloaded\u001b[0m\u001b[1;33m:\u001b[0m\u001b[1;33m\u001b[0m\u001b[0m\n\u001b[0;32m    396\u001b[0m             \u001b[1;32mif\u001b[0m \u001b[1;32mnot\u001b[0m \u001b[0mignore_extra\u001b[0m \u001b[1;32mand\u001b[0m \u001b[0mname\u001b[0m \u001b[1;32mnot\u001b[0m \u001b[1;32min\u001b[0m \u001b[0mparams\u001b[0m\u001b[1;33m:\u001b[0m\u001b[1;33m\u001b[0m\u001b[0m\n",
      "\u001b[1;31mAssertionError\u001b[0m: Parameter 'net.19.weight' is missing in file 'net1.params', which contains parameters: 'net.0.weight', 'net.0.bias', 'net.1.gamma', ..., 'net.14.running_mean', 'net.14.running_var', 'net.17.weight', 'net.17.bias'. Set allow_missing=True to ignore missing parameters."
     ]
    }
   ],
   "source": [
    "net.load_parameters('net1.params')"
   ]
  },
  {
   "cell_type": "code",
   "execution_count": 7,
   "metadata": {},
   "outputs": [
    {
     "name": "stdout",
     "output_type": "stream",
     "text": [
      "53.959999999999994 %\n"
     ]
    }
   ],
   "source": [
    "accuracy = 0\n",
    "for data,label in test_iter:\n",
    "    output = net.net(data)\n",
    "    if output.asnumpy().argmax() == label.asnumpy()[0]:\n",
    "        accuracy += 1\n",
    "        \n",
    "result = float(accuracy/len(test_data))\n",
    "print(result*100,\"%\")"
   ]
  },
  {
   "cell_type": "code",
   "execution_count": 46,
   "metadata": {},
   "outputs": [],
   "source": [
    "net.save_parameters('net3.params')"
   ]
  },
  {
   "cell_type": "code",
   "execution_count": 8,
   "metadata": {},
   "outputs": [
    {
     "data": {
      "text/plain": [
       "<matplotlib.axes._subplots.AxesSubplot at 0x19e81db4710>"
      ]
     },
     "execution_count": 8,
     "metadata": {},
     "output_type": "execute_result"
    },
    {
     "data": {
      "image/png": "[encoded data removed]",
      "text/plain": [
       "<matplotlib.figure.Figure at 0x19e81d96ef0>"
      ]
     },
     "metadata": {
      "needs_background": "light"
     },
     "output_type": "display_data"
    }
   ],
   "source": [
    "t = np.linspace(0,len(loss_values),len(loss_values))\n",
    "sns.regplot(t,loss_values)"
   ]
  },
  {
   "cell_type": "code",
   "execution_count": null,
   "metadata": {},
   "outputs": [],
   "source": []
  }
 ],
 "metadata": {
  "kernelspec": {
   "display_name": "Python 3",
   "language": "python",
   "name": "python3"
  },
  "language_info": {
   "codemirror_mode": {
    "name": "ipython",
    "version": 3
   },
   "file_extension": ".py",
   "mimetype": "text/x-python",
   "name": "python",
   "nbconvert_exporter": "python",
   "pygments_lexer": "ipython3",
   "version": "3.6.4"
  }
 },
 "nbformat": 4,
 "nbformat_minor": 2
}
